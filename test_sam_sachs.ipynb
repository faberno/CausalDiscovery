{
 "cells": [
  {
   "cell_type": "code",
   "execution_count": 1,
   "metadata": {
    "collapsed": true
   },
   "outputs": [
    {
     "name": "stderr",
     "output_type": "stream",
     "text": [
      "Detecting 1 CUDA device(s).\n"
     ]
    }
   ],
   "source": [
    "import cdt\n",
    "from cdt.causality.graph import SAM\n",
    "import networkx as nx\n",
    "import notears\n",
    "import matplotlib.pyplot as plt"
   ]
  },
  {
   "cell_type": "code",
   "execution_count": 2,
   "outputs": [],
   "source": [
    "data, graph = cdt.data.load_dataset(\"sachs\")\n",
    "adj = nx.to_numpy_array(graph)"
   ],
   "metadata": {
    "collapsed": false
   }
  },
  {
   "cell_type": "code",
   "execution_count": 3,
   "outputs": [
    {
     "name": "stderr",
     "output_type": "stream",
     "text": [
      "100%|██████████| 4000/4000 [04:34<00:00, 14.57it/s, disc=-.361, gen=-1.1, regul_loss=0.0375, tot=-11.7]   \n",
      "100%|██████████| 4000/4000 [04:31<00:00, 14.75it/s, disc=4.91e+6, gen=-4.83e+6, regul_loss=0.0429, tot=-5.32e+7]\n",
      "100%|██████████| 4000/4000 [04:29<00:00, 14.83it/s, disc=2.09, gen=-.352, regul_loss=0.0349, tot=-3.71]    \n",
      "100%|██████████| 4000/4000 [04:30<00:00, 14.80it/s, disc=4.01, gen=-2.04, regul_loss=0.0389, tot=-21.5]   \n",
      "100%|██████████| 4000/4000 [04:31<00:00, 14.73it/s, disc=-.303, gen=-1.04, regul_loss=0.0362, tot=-11.1]  \n",
      "100%|██████████| 4000/4000 [04:36<00:00, 14.46it/s, disc=-.124, gen=-1.01, regul_loss=0.0308, tot=-11.1]   \n",
      "100%|██████████| 4000/4000 [04:37<00:00, 14.42it/s, disc=-.431, gen=-.959, regul_loss=0.0389, tot=-10.2]  \n",
      "100%|██████████| 4000/4000 [04:37<00:00, 14.43it/s, disc=-.13, gen=-1.02, regul_loss=0.0375, tot=-11.1]   \n"
     ]
    }
   ],
   "source": [
    "obj = SAM()\n",
    "output = obj.predict(data)"
   ],
   "metadata": {
    "collapsed": false
   }
  },
  {
   "cell_type": "code",
   "execution_count": 4,
   "outputs": [],
   "source": [
    "learned_graph = nx.to_numpy_array(output)"
   ],
   "metadata": {
    "collapsed": false
   }
  },
  {
   "cell_type": "code",
   "execution_count": 5,
   "outputs": [
    {
     "data": {
      "text/plain": "<Figure size 640x480 with 2 Axes>",
      "image/png": "[encoded data removed]"
     },
     "metadata": {},
     "output_type": "display_data"
    }
   ],
   "source": [
    "fig, ax = plt.subplots(1, 2)\n",
    "ax[0].matshow(learned_graph)\n",
    "ax[0].set_title(\"Learned graph\")\n",
    "# ax[0].colorbar()\n",
    "\n",
    "ax[1].matshow(adj)\n",
    "ax[1].set_title(\"True graph\")\n",
    "# plt.colorbar()\n",
    "plt.show()"
   ],
   "metadata": {
    "collapsed": false
   }
  },
  {
   "cell_type": "code",
   "execution_count": 7,
   "outputs": [],
   "source": [
    "from notears.notears.utils import threshold_output\n",
    "\n",
    "acyclic_W = threshold_output(learned_graph)"
   ],
   "metadata": {
    "collapsed": false
   }
  },
  {
   "cell_type": "code",
   "execution_count": 8,
   "outputs": [
    {
     "data": {
      "text/plain": "<Figure size 640x480 with 3 Axes>",
      "image/png": "[encoded data removed]"
     },
     "metadata": {},
     "output_type": "display_data"
    }
   ],
   "source": [
    "fig, ax = plt.subplots(1, 3)\n",
    "\n",
    "ax[0].matshow(learned_graph)\n",
    "ax[0].set_title(\"Learned graph\")\n",
    "\n",
    "ax[1].matshow(acyclic_W)\n",
    "ax[1].set_title(\"Learned graph (th)\")\n",
    "# ax[1].colorbar()\n",
    "\n",
    "ax[2].matshow(adj)\n",
    "ax[2].set_title(\"True graph\")\n",
    "# plt.colorbar()\n",
    "\n",
    "plt.show()"
   ],
   "metadata": {
    "collapsed": false
   }
  },
  {
   "cell_type": "code",
   "execution_count": 9,
   "outputs": [
    {
     "name": "stdout",
     "output_type": "stream",
     "text": [
      "True positives: 8\n",
      "False positives: 13\n",
      "True negatives: 90\n",
      "False negatives: 10\n",
      "Precision: 0.38095238095238093\n",
      "Recall: 0.4444444444444444\n",
      " Specificity: 0.8737864077669902\n",
      "\n"
     ]
    }
   ],
   "source": [
    "cs = notears.notears.utils.compare_graphs_undirected(adj, acyclic_W)\n",
    "print('True positives: {}\\nFalse positives: {}\\nTrue negatives: {}\\nFalse negatives: {}'\\\n",
    "      .format(cs[0], cs[1], cs[2], cs[3]))\n",
    "\n",
    "print(\"Precision: {}\\nRecall: {}\\n Specificity: {}\".format(notears.notears.utils.compare_graphs_precision(cs), notears.notears.utils.compare_graphs_recall(cs), notears.notears.utils.compare_graphs_specificity(cs)))\n",
    "print(\"\")"
   ],
   "metadata": {
    "collapsed": false
   }
  },
  {
   "cell_type": "code",
   "execution_count": 10,
   "outputs": [
    {
     "data": {
      "text/plain": "29.0"
     },
     "execution_count": 10,
     "metadata": {},
     "output_type": "execute_result"
    }
   ],
   "source": [
    "cdt.metrics.SHD(adj, acyclic_W)"
   ],
   "metadata": {
    "collapsed": false
   }
  },
  {
   "cell_type": "code",
   "execution_count": 12,
   "outputs": [
    {
     "data": {
      "text/plain": "29"
     },
     "execution_count": 12,
     "metadata": {},
     "output_type": "execute_result"
    }
   ],
   "source": [
    "import numpy as np\n",
    "np.sum(adj != acyclic_W)"
   ],
   "metadata": {
    "collapsed": false
   }
  }
 ],
 "metadata": {
  "kernelspec": {
   "display_name": "Python 3",
   "language": "python",
   "name": "python3"
  },
  "language_info": {
   "codemirror_mode": {
    "name": "ipython",
    "version": 2
   },
   "file_extension": ".py",
   "mimetype": "text/x-python",
   "name": "python",
   "nbconvert_exporter": "python",
   "pygments_lexer": "ipython2",
   "version": "2.7.6"
  }
 },
 "nbformat": 4,
 "nbformat_minor": 0
}
